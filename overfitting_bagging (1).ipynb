{
    "metadata": {
        "kernelspec": {
            "name": "python3",
            "display_name": "Python 3 (ipykernel)",
            "language": "python"
        }
    },
    "nbformat": 4,
    "nbformat_minor": 4,
    "cells": [
        {
            "cell_type": "code",
            "execution_count": 1,
            "metadata": {},
            "outputs": [],
            "source": [
                "# Import necessary libraries\n",
                "import itertools\n",
                "import numpy as np\n",
                "import pandas as pd \n",
                "from numpy import std\n",
                "from numpy import mean\n",
                "import matplotlib.pyplot as plt\n",
                "from sklearn.datasets import make_regression\n",
                "from sklearn.ensemble import BaggingRegressor\n",
                "from sklearn.tree import DecisionTreeRegressor\n",
                "from sklearn.metrics import mean_squared_error\n",
                "from sklearn.model_selection import train_test_split\n",
                "%matplotlib inline\n",
                ""
            ]
        },
        {
            "cell_type": "code",
            "execution_count": 3,
            "metadata": {},
            "outputs": [],
            "source": [
                "# Read the dataset\n",
                "df = pd.read_csv(\"airquality.csv\",index_col=0)\n",
                "\n",
                "# Take a quick look at the data\n",
                "df.head(10)\n",
                ""
            ]
        },
        {
            "cell_type": "code",
            "execution_count": 12,
            "metadata": {},
            "outputs": [],
            "source": [
                "# Use the column Ozone to drop any NaNs from the dataframe\n",
                "df = df[df.Ozone.notna()]\n",
                ""
            ]
        },
        {
            "cell_type": "code",
            "execution_count": 17,
            "metadata": {},
            "outputs": [],
            "source": [
                "# Assign the values of Ozon column as the predictor variable\n",
                "x = df[['Ozone']].values\n",
                "\n",
                "# Use temperature as the response data\n",
                "y = df['Temp']\n",
                ""
            ]
        },
        {
            "cell_type": "code",
            "execution_count": 20,
            "metadata": {},
            "outputs": [],
            "source": [
                "# Split the data into train and test sets with train size as 0.8 \n",
                "# and set random_state as 102\n",
                "x_train, x_test, y_train, y_test = train_test_split(x, y, train_size=0.8, random_state=102)\n",
                ""
            ]
        },
        {
            "attachments": {},
            "cell_type": "markdown",
            "metadata": {},
            "source": [
                "### Bagging Regressor"
            ]
        },
        {
            "cell_type": "code",
            "execution_count": 0,
            "metadata": {},
            "outputs": [],
            "source": [
                "# Specify the number of bootstraps as 30\n",
                "num_bootstraps = 30\n",
                "\n",
                "# Specify the maximum depth of the decision tree as 3\n",
                "max_depth = 3\n",
                "\n",
                "# Define the Bagging Regressor Model\n",
                "# Use Decision Tree as your base estimator with depth as mentioned in max_depth\n",
                "# Initialise number of estimators using the num_bootstraps value\n",
                "model = ___\n",
                "                        \n",
                "\n",
                "# Fit the model on the train data\n",
                "___\n",
                ""
            ]
        },
        {
            "cell_type": "code",
            "execution_count": 24,
            "metadata": {},
            "outputs": [],
            "source": [
                "# Helper code to plot the predictions of individual estimators \n",
                "plt.figure(figsize=(10,8))\n",
                "\n",
                "xrange = np.linspace(x.min(),x.max(),80).reshape(-1,1)\n",
                "plt.plot(x_train,y_train,'o',color='#CC1100', markersize=6, label=\"Train Data\")\n",
                "plt.plot(x_test,y_test,'o',color='#241571', markersize=6, label=\"Test Data\")\n",
                "plt.xlim()\n",
                "for i in model.estimators_:\n",
                "    y_pred1 = i.predict(xrange)\n",
                "    plt.plot(xrange,y_pred1,alpha=0.5,linewidth=0.5,color = '#ABCCE3')\n",
                "plt.plot(xrange,y_pred1,alpha=0.6,linewidth=1,color = '#ABCCE3',label=\"Prediction of Individual Estimators\")\n",
                "\n",
                "\n",
                "y_pred = model.predict(xrange)\n",
                "plt.plot(xrange,y_pred,alpha=0.7,linewidth=3,color='#50AEA4', label='Model Prediction')\n",
                "plt.xlabel(\"Ozone\", fontsize=16)\n",
                "plt.ylabel(\"Temperature\", fontsize=16)\n",
                "plt.xticks(fontsize=12)\n",
                "plt.yticks(fontsize=12)\n",
                "plt.legend(loc='best',fontsize=12)\n",
                "plt.show();\n",
                ""
            ]
        },
        {
            "cell_type": "code",
            "execution_count": 25,
            "metadata": {},
            "outputs": [],
            "source": [
                "# Compute the test MSE of the prediction of first estimator\n",
                "y_pred1 = ___\n",
                "\n",
                "# Print the test MSE \n",
                "print(\"The test MSE of one estimator in the model is\", round(mean_squared_error(y_test,y_pred1),2))\n",
                ""
            ]
        },
        {
            "cell_type": "code",
            "execution_count": 0,
            "metadata": {},
            "outputs": [],
            "source": [
                "### edTest(test_mse) ###\n",
                "# Compute the test MSE of the model prediction\n",
                "y_pred = ___\n",
                "\n",
                "# Print the test MSE \n",
                "print(\"The test MSE of the model is\",round(mean_squared_error(y_test,y_pred),2))\n",
                ""
            ]
        }
    ]
}
